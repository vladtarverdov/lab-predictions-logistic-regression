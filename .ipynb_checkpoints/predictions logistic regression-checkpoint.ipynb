{
 "cells": [
  {
   "cell_type": "markdown",
   "metadata": {},
   "source": [
    "![logo_ironhack_blue 7](https://user-images.githubusercontent.com/23629340/40541063-a07a0a8a-601a-11e8-91b5-2f13e4e6b441.png)\n",
    "\n",
    "# Lab | Making predictions with logistic regression\n",
    "\n",
    "In this lab, you will be using the [Sakila](https://dev.mysql.com/doc/sakila/en/) database of movie rentals.\n",
    "\n",
    "In order to optimize our inventory, we would like to know which films will be rented next month and we are asked to create a model to predict it.\n",
    "\n",
    "### Instructions\n",
    "\n",
    "1. Create a query or queries to extract the information you think may be relevant for building the prediction model. It should include some film features and some rental features.\n",
    "2. Read the data into a Pandas dataframe.\n",
    "3. Analyze extracted features and transform them. You may need to encode some categorical variables, or scale numerical variables.\n",
    "4. Create a query to get the list of films and a boolean indicating if it was rented last month. This would be our target variable.\n",
    "5. Create a logistic regression model to predict this variable from the cleaned data.\n",
    "6. Evaluate the results.\n"
   ]
  },
  {
   "cell_type": "code",
   "execution_count": 1,
   "metadata": {},
   "outputs": [
    {
     "name": "stdout",
     "output_type": "stream",
     "text": [
      "········\n"
     ]
    }
   ],
   "source": [
    "import pymysql\n",
    "from sqlalchemy import create_engine\n",
    "import pandas as pd\n",
    "import getpass  # To get the password without showing the input\n",
    "password = getpass.getpass()"
   ]
  },
  {
   "cell_type": "markdown",
   "metadata": {},
   "source": [
    "## Import data into a dataframe"
   ]
  },
  {
   "cell_type": "code",
   "execution_count": 2,
   "metadata": {},
   "outputs": [],
   "source": [
    "connection_string = 'mysql+pymysql://root:' + password + '@localhost/sakila'\n",
    "engine = create_engine(connection_string)\n",
    "# data = pd.read_sql_query('SELECT * FROM loan', engine)\n",
    "# data.head()"
   ]
  },
  {
   "cell_type": "code",
   "execution_count": 3,
   "metadata": {},
   "outputs": [],
   "source": [
    "query = '''\n",
    "\n",
    "WITH n_inventory AS (\n",
    "SELECT f.film_id, COUNT(i.inventory_id) n_inventory\n",
    "FROM film f\n",
    "LEFT JOIN inventory i\n",
    "ON f.film_id = i.film_id\n",
    "GROUP BY film_id),\n",
    "\n",
    "n_rentals AS (\n",
    "SELECT f.film_id, COUNT(r.rental_id) n_rental,\n",
    "CASE WHEN r.rental_date BETWEEN '2005-01-01' AND '2006-02-14' THEN 1\n",
    "    ELSE 0 END AS time_movies_rented\n",
    "FROM film f\n",
    "LEFT JOIN inventory i\n",
    "ON f.film_id = i.film_id\n",
    "JOIN rental r\n",
    "ON i.inventory_id = r.inventory_id\n",
    "GROUP BY film_id,3),\n",
    "\n",
    "x AS (\n",
    "SELECT DISTINCT i.film_id, i.n_inventory, r.n_rental, c.name category, f.rating, f.length, f.title movie, f.release_year, f.rental_rate, r.time_movies_rented\n",
    "FROM n_inventory i\n",
    "LEFT JOIN n_rentals r\n",
    "ON i.film_id = r.film_id\n",
    "JOIN film_category fc\n",
    "ON i.film_id = fc.film_id\n",
    "JOIN category c\n",
    "ON c.category_id = fc.category_id\n",
    "JOIN film f\n",
    "ON i.film_id = f.film_id\n",
    "JOIN inventory inv\n",
    "ON i.film_id = inv.film_id\n",
    "JOIN rental r\n",
    "ON r.inventory_id = inv.inventory_id),\n",
    "\n",
    "y AS (SELECT RANK() OVER (PARTITION BY film_id ORDER BY time_movies_rented) AS x, film_id, n_inventory, n_rental, category, rating, length, movie, release_year, rental_rate, time_movies_rented\n",
    "FROM x)\n",
    "\n",
    "SELECT film_id, n_inventory, n_rental, category, rating, length, movie, release_year, rental_rate, time_movies_rented\n",
    "FROM y\n",
    "WHERE x = 1\n",
    "\n",
    "'''\n",
    "\n",
    "data = pd.read_sql_query(query, engine)"
   ]
  },
  {
   "cell_type": "code",
   "execution_count": 4,
   "metadata": {},
   "outputs": [
    {
     "data": {
      "text/html": [
       "<div>\n",
       "<style scoped>\n",
       "    .dataframe tbody tr th:only-of-type {\n",
       "        vertical-align: middle;\n",
       "    }\n",
       "\n",
       "    .dataframe tbody tr th {\n",
       "        vertical-align: top;\n",
       "    }\n",
       "\n",
       "    .dataframe thead th {\n",
       "        text-align: right;\n",
       "    }\n",
       "</style>\n",
       "<table border=\"1\" class=\"dataframe\">\n",
       "  <thead>\n",
       "    <tr style=\"text-align: right;\">\n",
       "      <th></th>\n",
       "      <th>n_inventory</th>\n",
       "      <th>n_rental</th>\n",
       "      <th>category</th>\n",
       "      <th>rating</th>\n",
       "      <th>length</th>\n",
       "      <th>movie</th>\n",
       "      <th>release_year</th>\n",
       "      <th>rental_rate</th>\n",
       "      <th>time_movies_rented</th>\n",
       "    </tr>\n",
       "    <tr>\n",
       "      <th>film_id</th>\n",
       "      <th></th>\n",
       "      <th></th>\n",
       "      <th></th>\n",
       "      <th></th>\n",
       "      <th></th>\n",
       "      <th></th>\n",
       "      <th></th>\n",
       "      <th></th>\n",
       "      <th></th>\n",
       "    </tr>\n",
       "  </thead>\n",
       "  <tbody>\n",
       "    <tr>\n",
       "      <th>1</th>\n",
       "      <td>8</td>\n",
       "      <td>23</td>\n",
       "      <td>Documentary</td>\n",
       "      <td>PG</td>\n",
       "      <td>86</td>\n",
       "      <td>ACADEMY DINOSAUR</td>\n",
       "      <td>2006</td>\n",
       "      <td>0.99</td>\n",
       "      <td>1</td>\n",
       "    </tr>\n",
       "    <tr>\n",
       "      <th>2</th>\n",
       "      <td>3</td>\n",
       "      <td>1</td>\n",
       "      <td>Horror</td>\n",
       "      <td>G</td>\n",
       "      <td>48</td>\n",
       "      <td>ACE GOLDFINGER</td>\n",
       "      <td>2006</td>\n",
       "      <td>4.99</td>\n",
       "      <td>0</td>\n",
       "    </tr>\n",
       "    <tr>\n",
       "      <th>3</th>\n",
       "      <td>4</td>\n",
       "      <td>12</td>\n",
       "      <td>Documentary</td>\n",
       "      <td>NC-17</td>\n",
       "      <td>50</td>\n",
       "      <td>ADAPTATION HOLES</td>\n",
       "      <td>2006</td>\n",
       "      <td>2.99</td>\n",
       "      <td>1</td>\n",
       "    </tr>\n",
       "    <tr>\n",
       "      <th>4</th>\n",
       "      <td>7</td>\n",
       "      <td>1</td>\n",
       "      <td>Horror</td>\n",
       "      <td>G</td>\n",
       "      <td>117</td>\n",
       "      <td>AFFAIR PREJUDICE</td>\n",
       "      <td>2006</td>\n",
       "      <td>2.99</td>\n",
       "      <td>0</td>\n",
       "    </tr>\n",
       "    <tr>\n",
       "      <th>5</th>\n",
       "      <td>3</td>\n",
       "      <td>1</td>\n",
       "      <td>Family</td>\n",
       "      <td>G</td>\n",
       "      <td>130</td>\n",
       "      <td>AFRICAN EGG</td>\n",
       "      <td>2006</td>\n",
       "      <td>2.99</td>\n",
       "      <td>0</td>\n",
       "    </tr>\n",
       "  </tbody>\n",
       "</table>\n",
       "</div>"
      ],
      "text/plain": [
       "         n_inventory  n_rental     category rating  length             movie  \\\n",
       "film_id                                                                        \n",
       "1                  8        23  Documentary     PG      86  ACADEMY DINOSAUR   \n",
       "2                  3         1       Horror      G      48    ACE GOLDFINGER   \n",
       "3                  4        12  Documentary  NC-17      50  ADAPTATION HOLES   \n",
       "4                  7         1       Horror      G     117  AFFAIR PREJUDICE   \n",
       "5                  3         1       Family      G     130       AFRICAN EGG   \n",
       "\n",
       "         release_year  rental_rate  time_movies_rented  \n",
       "film_id                                                 \n",
       "1                2006         0.99                   1  \n",
       "2                2006         4.99                   0  \n",
       "3                2006         2.99                   1  \n",
       "4                2006         2.99                   0  \n",
       "5                2006         2.99                   0  "
      ]
     },
     "execution_count": 4,
     "metadata": {},
     "output_type": "execute_result"
    }
   ],
   "source": [
    "data = data.set_index('film_id')\n",
    "data.head()"
   ]
  },
  {
   "cell_type": "code",
   "execution_count": 5,
   "metadata": {},
   "outputs": [
    {
     "data": {
      "text/plain": [
       "n_inventory             int64\n",
       "n_rental                int64\n",
       "category               object\n",
       "rating                 object\n",
       "length                  int64\n",
       "movie                  object\n",
       "release_year            int64\n",
       "rental_rate           float64\n",
       "time_movies_rented      int64\n",
       "dtype: object"
      ]
     },
     "execution_count": 5,
     "metadata": {},
     "output_type": "execute_result"
    }
   ],
   "source": [
    "data.dtypes"
   ]
  },
  {
   "cell_type": "code",
   "execution_count": 6,
   "metadata": {},
   "outputs": [],
   "source": [
    "data.time_movies_rented = data.time_movies_rented.astype(bool)"
   ]
  },
  {
   "cell_type": "code",
   "execution_count": 7,
   "metadata": {},
   "outputs": [
    {
     "data": {
      "text/plain": [
       "n_inventory             int64\n",
       "n_rental                int64\n",
       "category               object\n",
       "rating                 object\n",
       "length                  int64\n",
       "movie                  object\n",
       "release_year            int64\n",
       "rental_rate           float64\n",
       "time_movies_rented       bool\n",
       "dtype: object"
      ]
     },
     "execution_count": 7,
     "metadata": {},
     "output_type": "execute_result"
    }
   ],
   "source": [
    "data.dtypes"
   ]
  },
  {
   "cell_type": "markdown",
   "metadata": {},
   "source": [
    "## Getting the possible values for the dependent variable"
   ]
  },
  {
   "cell_type": "markdown",
   "metadata": {},
   "source": [
    "## Getting information about the dataset"
   ]
  },
  {
   "cell_type": "code",
   "execution_count": 8,
   "metadata": {},
   "outputs": [
    {
     "data": {
      "text/plain": [
       "n_inventory           0\n",
       "n_rental              0\n",
       "category              0\n",
       "rating                0\n",
       "length                0\n",
       "movie                 0\n",
       "release_year          0\n",
       "rental_rate           0\n",
       "time_movies_rented    0\n",
       "dtype: int64"
      ]
     },
     "execution_count": 8,
     "metadata": {},
     "output_type": "execute_result"
    }
   ],
   "source": [
    "data.isna().sum()"
   ]
  },
  {
   "cell_type": "markdown",
   "metadata": {},
   "source": [
    "## Filtering"
   ]
  },
  {
   "cell_type": "code",
   "execution_count": 9,
   "metadata": {},
   "outputs": [
    {
     "data": {
      "text/plain": [
       "Sports         73\n",
       "Foreign        67\n",
       "Family         67\n",
       "Animation      64\n",
       "Documentary    63\n",
       "Action         61\n",
       "Drama          61\n",
       "New            60\n",
       "Sci-Fi         59\n",
       "Games          58\n",
       "Children       58\n",
       "Comedy         56\n",
       "Classics       54\n",
       "Travel         53\n",
       "Horror         53\n",
       "Music          51\n",
       "Name: category, dtype: int64"
      ]
     },
     "execution_count": 9,
     "metadata": {},
     "output_type": "execute_result"
    }
   ],
   "source": [
    "data.category.value_counts()"
   ]
  },
  {
   "cell_type": "code",
   "execution_count": 10,
   "metadata": {},
   "outputs": [
    {
     "data": {
      "text/plain": [
       "PG-13    213\n",
       "NC-17    202\n",
       "R        189\n",
       "PG       183\n",
       "G        171\n",
       "Name: rating, dtype: int64"
      ]
     },
     "execution_count": 10,
     "metadata": {},
     "output_type": "execute_result"
    }
   ],
   "source": [
    "data.rating.value_counts()"
   ]
  },
  {
   "cell_type": "code",
   "execution_count": 11,
   "metadata": {},
   "outputs": [
    {
     "data": {
      "text/plain": [
       "2006    958\n",
       "Name: release_year, dtype: int64"
      ]
     },
     "execution_count": 11,
     "metadata": {},
     "output_type": "execute_result"
    }
   ],
   "source": [
    "data.release_year.value_counts()"
   ]
  },
  {
   "cell_type": "code",
   "execution_count": 12,
   "metadata": {},
   "outputs": [
    {
     "data": {
      "text/plain": [
       "0.99    326\n",
       "4.99    320\n",
       "2.99    312\n",
       "Name: rental_rate, dtype: int64"
      ]
     },
     "execution_count": 12,
     "metadata": {},
     "output_type": "execute_result"
    }
   ],
   "source": [
    "data.rental_rate.value_counts()"
   ]
  },
  {
   "cell_type": "markdown",
   "metadata": {},
   "source": [
    "## Loading libraries"
   ]
  },
  {
   "cell_type": "code",
   "execution_count": 13,
   "metadata": {},
   "outputs": [],
   "source": [
    "import matplotlib.pyplot as plt\n",
    "import seaborn as sns\n",
    "%matplotlib inline"
   ]
  },
  {
   "cell_type": "markdown",
   "metadata": {},
   "source": [
    "## Getting the correlation matrix"
   ]
  },
  {
   "cell_type": "code",
   "execution_count": 14,
   "metadata": {},
   "outputs": [
    {
     "data": {
      "image/png": "[encoded data removed]",
      "text/plain": [
       "<Figure size 720x576 with 2 Axes>"
      ]
     },
     "metadata": {
      "needs_background": "light"
     },
     "output_type": "display_data"
    }
   ],
   "source": [
    "corr_matrix=data.corr(method='pearson')  # default\n",
    "fig, ax = plt.subplots(figsize=(10, 8))\n",
    "ax = sns.heatmap(corr_matrix, annot=True)\n",
    "plt.show()"
   ]
  },
  {
   "cell_type": "code",
   "execution_count": null,
   "metadata": {},
   "outputs": [],
   "source": [
    "for i in data.columns:\n",
    "    sns.displot(data[i])\n",
    "    plt.show()"
   ]
  },
  {
   "cell_type": "markdown",
   "metadata": {},
   "source": [
    "## Data preprocessing"
   ]
  },
  {
   "cell_type": "code",
   "execution_count": 16,
   "metadata": {},
   "outputs": [],
   "source": [
    "from sklearn.preprocessing import Normalizer\n",
    "# from sklearn.preprocessing import StandardScaler\n",
    "import numpy as np\n",
    "X = data.select_dtypes(include = np.number)\n",
    "\n",
    "# Normalizing data\n",
    "transformer = Normalizer().fit(X)\n",
    "x_normalized = transformer.transform(X)\n",
    "x = pd.DataFrame(x_normalized)"
   ]
  },
  {
   "cell_type": "code",
   "execution_count": 17,
   "metadata": {},
   "outputs": [
    {
     "data": {
      "text/plain": [
       "n_inventory             int64\n",
       "n_rental                int64\n",
       "category               object\n",
       "rating                 object\n",
       "length                  int64\n",
       "movie                  object\n",
       "release_year            int64\n",
       "rental_rate           float64\n",
       "time_movies_rented       bool\n",
       "dtype: object"
      ]
     },
     "execution_count": 17,
     "metadata": {},
     "output_type": "execute_result"
    }
   ],
   "source": [
    "data.dtypes"
   ]
  },
  {
   "cell_type": "markdown",
   "metadata": {},
   "source": [
    "## Dummifying categorical features"
   ]
  },
  {
   "cell_type": "code",
   "execution_count": 18,
   "metadata": {},
   "outputs": [],
   "source": [
    "cat = data.select_dtypes(include = np.object)\n",
    "cat = cat.drop(['movie'], axis=1)\n",
    "categorical = pd.get_dummies(cat, columns=['category','rating'])"
   ]
  },
  {
   "cell_type": "code",
   "execution_count": 19,
   "metadata": {},
   "outputs": [
    {
     "data": {
      "text/html": [
       "<div>\n",
       "<style scoped>\n",
       "    .dataframe tbody tr th:only-of-type {\n",
       "        vertical-align: middle;\n",
       "    }\n",
       "\n",
       "    .dataframe tbody tr th {\n",
       "        vertical-align: top;\n",
       "    }\n",
       "\n",
       "    .dataframe thead th {\n",
       "        text-align: right;\n",
       "    }\n",
       "</style>\n",
       "<table border=\"1\" class=\"dataframe\">\n",
       "  <thead>\n",
       "    <tr style=\"text-align: right;\">\n",
       "      <th></th>\n",
       "      <th>category_Action</th>\n",
       "      <th>category_Animation</th>\n",
       "      <th>category_Children</th>\n",
       "      <th>category_Classics</th>\n",
       "      <th>category_Comedy</th>\n",
       "      <th>category_Documentary</th>\n",
       "      <th>category_Drama</th>\n",
       "      <th>category_Family</th>\n",
       "      <th>category_Foreign</th>\n",
       "      <th>category_Games</th>\n",
       "      <th>...</th>\n",
       "      <th>category_Music</th>\n",
       "      <th>category_New</th>\n",
       "      <th>category_Sci-Fi</th>\n",
       "      <th>category_Sports</th>\n",
       "      <th>category_Travel</th>\n",
       "      <th>rating_G</th>\n",
       "      <th>rating_NC-17</th>\n",
       "      <th>rating_PG</th>\n",
       "      <th>rating_PG-13</th>\n",
       "      <th>rating_R</th>\n",
       "    </tr>\n",
       "    <tr>\n",
       "      <th>film_id</th>\n",
       "      <th></th>\n",
       "      <th></th>\n",
       "      <th></th>\n",
       "      <th></th>\n",
       "      <th></th>\n",
       "      <th></th>\n",
       "      <th></th>\n",
       "      <th></th>\n",
       "      <th></th>\n",
       "      <th></th>\n",
       "      <th></th>\n",
       "      <th></th>\n",
       "      <th></th>\n",
       "      <th></th>\n",
       "      <th></th>\n",
       "      <th></th>\n",
       "      <th></th>\n",
       "      <th></th>\n",
       "      <th></th>\n",
       "      <th></th>\n",
       "      <th></th>\n",
       "    </tr>\n",
       "  </thead>\n",
       "  <tbody>\n",
       "    <tr>\n",
       "      <th>1</th>\n",
       "      <td>0</td>\n",
       "      <td>0</td>\n",
       "      <td>0</td>\n",
       "      <td>0</td>\n",
       "      <td>0</td>\n",
       "      <td>1</td>\n",
       "      <td>0</td>\n",
       "      <td>0</td>\n",
       "      <td>0</td>\n",
       "      <td>0</td>\n",
       "      <td>...</td>\n",
       "      <td>0</td>\n",
       "      <td>0</td>\n",
       "      <td>0</td>\n",
       "      <td>0</td>\n",
       "      <td>0</td>\n",
       "      <td>0</td>\n",
       "      <td>0</td>\n",
       "      <td>1</td>\n",
       "      <td>0</td>\n",
       "      <td>0</td>\n",
       "    </tr>\n",
       "    <tr>\n",
       "      <th>2</th>\n",
       "      <td>0</td>\n",
       "      <td>0</td>\n",
       "      <td>0</td>\n",
       "      <td>0</td>\n",
       "      <td>0</td>\n",
       "      <td>0</td>\n",
       "      <td>0</td>\n",
       "      <td>0</td>\n",
       "      <td>0</td>\n",
       "      <td>0</td>\n",
       "      <td>...</td>\n",
       "      <td>0</td>\n",
       "      <td>0</td>\n",
       "      <td>0</td>\n",
       "      <td>0</td>\n",
       "      <td>0</td>\n",
       "      <td>1</td>\n",
       "      <td>0</td>\n",
       "      <td>0</td>\n",
       "      <td>0</td>\n",
       "      <td>0</td>\n",
       "    </tr>\n",
       "    <tr>\n",
       "      <th>3</th>\n",
       "      <td>0</td>\n",
       "      <td>0</td>\n",
       "      <td>0</td>\n",
       "      <td>0</td>\n",
       "      <td>0</td>\n",
       "      <td>1</td>\n",
       "      <td>0</td>\n",
       "      <td>0</td>\n",
       "      <td>0</td>\n",
       "      <td>0</td>\n",
       "      <td>...</td>\n",
       "      <td>0</td>\n",
       "      <td>0</td>\n",
       "      <td>0</td>\n",
       "      <td>0</td>\n",
       "      <td>0</td>\n",
       "      <td>0</td>\n",
       "      <td>1</td>\n",
       "      <td>0</td>\n",
       "      <td>0</td>\n",
       "      <td>0</td>\n",
       "    </tr>\n",
       "    <tr>\n",
       "      <th>4</th>\n",
       "      <td>0</td>\n",
       "      <td>0</td>\n",
       "      <td>0</td>\n",
       "      <td>0</td>\n",
       "      <td>0</td>\n",
       "      <td>0</td>\n",
       "      <td>0</td>\n",
       "      <td>0</td>\n",
       "      <td>0</td>\n",
       "      <td>0</td>\n",
       "      <td>...</td>\n",
       "      <td>0</td>\n",
       "      <td>0</td>\n",
       "      <td>0</td>\n",
       "      <td>0</td>\n",
       "      <td>0</td>\n",
       "      <td>1</td>\n",
       "      <td>0</td>\n",
       "      <td>0</td>\n",
       "      <td>0</td>\n",
       "      <td>0</td>\n",
       "    </tr>\n",
       "    <tr>\n",
       "      <th>5</th>\n",
       "      <td>0</td>\n",
       "      <td>0</td>\n",
       "      <td>0</td>\n",
       "      <td>0</td>\n",
       "      <td>0</td>\n",
       "      <td>0</td>\n",
       "      <td>0</td>\n",
       "      <td>1</td>\n",
       "      <td>0</td>\n",
       "      <td>0</td>\n",
       "      <td>...</td>\n",
       "      <td>0</td>\n",
       "      <td>0</td>\n",
       "      <td>0</td>\n",
       "      <td>0</td>\n",
       "      <td>0</td>\n",
       "      <td>1</td>\n",
       "      <td>0</td>\n",
       "      <td>0</td>\n",
       "      <td>0</td>\n",
       "      <td>0</td>\n",
       "    </tr>\n",
       "    <tr>\n",
       "      <th>...</th>\n",
       "      <td>...</td>\n",
       "      <td>...</td>\n",
       "      <td>...</td>\n",
       "      <td>...</td>\n",
       "      <td>...</td>\n",
       "      <td>...</td>\n",
       "      <td>...</td>\n",
       "      <td>...</td>\n",
       "      <td>...</td>\n",
       "      <td>...</td>\n",
       "      <td>...</td>\n",
       "      <td>...</td>\n",
       "      <td>...</td>\n",
       "      <td>...</td>\n",
       "      <td>...</td>\n",
       "      <td>...</td>\n",
       "      <td>...</td>\n",
       "      <td>...</td>\n",
       "      <td>...</td>\n",
       "      <td>...</td>\n",
       "      <td>...</td>\n",
       "    </tr>\n",
       "    <tr>\n",
       "      <th>996</th>\n",
       "      <td>0</td>\n",
       "      <td>0</td>\n",
       "      <td>0</td>\n",
       "      <td>0</td>\n",
       "      <td>0</td>\n",
       "      <td>1</td>\n",
       "      <td>0</td>\n",
       "      <td>0</td>\n",
       "      <td>0</td>\n",
       "      <td>0</td>\n",
       "      <td>...</td>\n",
       "      <td>0</td>\n",
       "      <td>0</td>\n",
       "      <td>0</td>\n",
       "      <td>0</td>\n",
       "      <td>0</td>\n",
       "      <td>1</td>\n",
       "      <td>0</td>\n",
       "      <td>0</td>\n",
       "      <td>0</td>\n",
       "      <td>0</td>\n",
       "    </tr>\n",
       "    <tr>\n",
       "      <th>997</th>\n",
       "      <td>0</td>\n",
       "      <td>0</td>\n",
       "      <td>0</td>\n",
       "      <td>0</td>\n",
       "      <td>0</td>\n",
       "      <td>0</td>\n",
       "      <td>0</td>\n",
       "      <td>0</td>\n",
       "      <td>0</td>\n",
       "      <td>0</td>\n",
       "      <td>...</td>\n",
       "      <td>1</td>\n",
       "      <td>0</td>\n",
       "      <td>0</td>\n",
       "      <td>0</td>\n",
       "      <td>0</td>\n",
       "      <td>0</td>\n",
       "      <td>1</td>\n",
       "      <td>0</td>\n",
       "      <td>0</td>\n",
       "      <td>0</td>\n",
       "    </tr>\n",
       "    <tr>\n",
       "      <th>998</th>\n",
       "      <td>0</td>\n",
       "      <td>0</td>\n",
       "      <td>0</td>\n",
       "      <td>0</td>\n",
       "      <td>0</td>\n",
       "      <td>0</td>\n",
       "      <td>0</td>\n",
       "      <td>0</td>\n",
       "      <td>0</td>\n",
       "      <td>0</td>\n",
       "      <td>...</td>\n",
       "      <td>0</td>\n",
       "      <td>0</td>\n",
       "      <td>0</td>\n",
       "      <td>0</td>\n",
       "      <td>0</td>\n",
       "      <td>0</td>\n",
       "      <td>1</td>\n",
       "      <td>0</td>\n",
       "      <td>0</td>\n",
       "      <td>0</td>\n",
       "    </tr>\n",
       "    <tr>\n",
       "      <th>999</th>\n",
       "      <td>0</td>\n",
       "      <td>0</td>\n",
       "      <td>1</td>\n",
       "      <td>0</td>\n",
       "      <td>0</td>\n",
       "      <td>0</td>\n",
       "      <td>0</td>\n",
       "      <td>0</td>\n",
       "      <td>0</td>\n",
       "      <td>0</td>\n",
       "      <td>...</td>\n",
       "      <td>0</td>\n",
       "      <td>0</td>\n",
       "      <td>0</td>\n",
       "      <td>0</td>\n",
       "      <td>0</td>\n",
       "      <td>0</td>\n",
       "      <td>0</td>\n",
       "      <td>0</td>\n",
       "      <td>0</td>\n",
       "      <td>1</td>\n",
       "    </tr>\n",
       "    <tr>\n",
       "      <th>1000</th>\n",
       "      <td>0</td>\n",
       "      <td>0</td>\n",
       "      <td>0</td>\n",
       "      <td>0</td>\n",
       "      <td>1</td>\n",
       "      <td>0</td>\n",
       "      <td>0</td>\n",
       "      <td>0</td>\n",
       "      <td>0</td>\n",
       "      <td>0</td>\n",
       "      <td>...</td>\n",
       "      <td>0</td>\n",
       "      <td>0</td>\n",
       "      <td>0</td>\n",
       "      <td>0</td>\n",
       "      <td>0</td>\n",
       "      <td>0</td>\n",
       "      <td>1</td>\n",
       "      <td>0</td>\n",
       "      <td>0</td>\n",
       "      <td>0</td>\n",
       "    </tr>\n",
       "  </tbody>\n",
       "</table>\n",
       "<p>958 rows × 21 columns</p>\n",
       "</div>"
      ],
      "text/plain": [
       "         category_Action  category_Animation  category_Children  \\\n",
       "film_id                                                           \n",
       "1                      0                   0                  0   \n",
       "2                      0                   0                  0   \n",
       "3                      0                   0                  0   \n",
       "4                      0                   0                  0   \n",
       "5                      0                   0                  0   \n",
       "...                  ...                 ...                ...   \n",
       "996                    0                   0                  0   \n",
       "997                    0                   0                  0   \n",
       "998                    0                   0                  0   \n",
       "999                    0                   0                  1   \n",
       "1000                   0                   0                  0   \n",
       "\n",
       "         category_Classics  category_Comedy  category_Documentary  \\\n",
       "film_id                                                             \n",
       "1                        0                0                     1   \n",
       "2                        0                0                     0   \n",
       "3                        0                0                     1   \n",
       "4                        0                0                     0   \n",
       "5                        0                0                     0   \n",
       "...                    ...              ...                   ...   \n",
       "996                      0                0                     1   \n",
       "997                      0                0                     0   \n",
       "998                      0                0                     0   \n",
       "999                      0                0                     0   \n",
       "1000                     0                1                     0   \n",
       "\n",
       "         category_Drama  category_Family  category_Foreign  category_Games  \\\n",
       "film_id                                                                      \n",
       "1                     0                0                 0               0   \n",
       "2                     0                0                 0               0   \n",
       "3                     0                0                 0               0   \n",
       "4                     0                0                 0               0   \n",
       "5                     0                1                 0               0   \n",
       "...                 ...              ...               ...             ...   \n",
       "996                   0                0                 0               0   \n",
       "997                   0                0                 0               0   \n",
       "998                   0                0                 0               0   \n",
       "999                   0                0                 0               0   \n",
       "1000                  0                0                 0               0   \n",
       "\n",
       "         ...  category_Music  category_New  category_Sci-Fi  category_Sports  \\\n",
       "film_id  ...                                                                   \n",
       "1        ...               0             0                0                0   \n",
       "2        ...               0             0                0                0   \n",
       "3        ...               0             0                0                0   \n",
       "4        ...               0             0                0                0   \n",
       "5        ...               0             0                0                0   \n",
       "...      ...             ...           ...              ...              ...   \n",
       "996      ...               0             0                0                0   \n",
       "997      ...               1             0                0                0   \n",
       "998      ...               0             0                0                0   \n",
       "999      ...               0             0                0                0   \n",
       "1000     ...               0             0                0                0   \n",
       "\n",
       "         category_Travel  rating_G  rating_NC-17  rating_PG  rating_PG-13  \\\n",
       "film_id                                                                     \n",
       "1                      0         0             0          1             0   \n",
       "2                      0         1             0          0             0   \n",
       "3                      0         0             1          0             0   \n",
       "4                      0         1             0          0             0   \n",
       "5                      0         1             0          0             0   \n",
       "...                  ...       ...           ...        ...           ...   \n",
       "996                    0         1             0          0             0   \n",
       "997                    0         0             1          0             0   \n",
       "998                    0         0             1          0             0   \n",
       "999                    0         0             0          0             0   \n",
       "1000                   0         0             1          0             0   \n",
       "\n",
       "         rating_R  \n",
       "film_id            \n",
       "1               0  \n",
       "2               0  \n",
       "3               0  \n",
       "4               0  \n",
       "5               0  \n",
       "...           ...  \n",
       "996             0  \n",
       "997             0  \n",
       "998             0  \n",
       "999             1  \n",
       "1000            0  \n",
       "\n",
       "[958 rows x 21 columns]"
      ]
     },
     "execution_count": 19,
     "metadata": {},
     "output_type": "execute_result"
    }
   ],
   "source": [
    "categorical"
   ]
  },
  {
   "cell_type": "markdown",
   "metadata": {},
   "source": [
    "## Train-test split"
   ]
  },
  {
   "cell_type": "code",
   "execution_count": 20,
   "metadata": {},
   "outputs": [],
   "source": [
    "y = data['time_movies_rented']\n",
    "X = np.concatenate((x, categorical), axis=1)"
   ]
  },
  {
   "cell_type": "code",
   "execution_count": 21,
   "metadata": {},
   "outputs": [],
   "source": [
    "from sklearn.model_selection import train_test_split\n",
    "X_train, X_test, y_train, y_test = train_test_split(X, y, test_size=0.4, random_state=100)"
   ]
  },
  {
   "cell_type": "markdown",
   "metadata": {},
   "source": [
    "## Training the model"
   ]
  },
  {
   "cell_type": "code",
   "execution_count": 22,
   "metadata": {},
   "outputs": [],
   "source": [
    "from sklearn.linear_model import LogisticRegression\n",
    "classification = LogisticRegression(random_state=0, solver='lbfgs',\n",
    "                  multi_class='multinomial').fit(X_train, y_train)"
   ]
  },
  {
   "cell_type": "markdown",
   "metadata": {},
   "source": [
    "## Validating the model"
   ]
  },
  {
   "cell_type": "code",
   "execution_count": 23,
   "metadata": {},
   "outputs": [
    {
     "name": "stdout",
     "output_type": "stream",
     "text": [
      "The accuracy of the model in the TEST set is:  0.82\n"
     ]
    }
   ],
   "source": [
    "print(\"The accuracy of the model in the TEST set is: \", round(classification.score(X_test, y_test),2))"
   ]
  },
  {
   "cell_type": "code",
   "execution_count": 24,
   "metadata": {},
   "outputs": [
    {
     "data": {
      "text/plain": [
       "0.8229166666666666"
      ]
     },
     "execution_count": 24,
     "metadata": {},
     "output_type": "execute_result"
    }
   ],
   "source": [
    "predictions = classification.predict(X_test)\n",
    "classification.score(X_test, y_test)"
   ]
  },
  {
   "cell_type": "code",
   "execution_count": 25,
   "metadata": {},
   "outputs": [
    {
     "data": {
      "text/plain": [
       "True     316\n",
       "False     68\n",
       "Name: time_movies_rented, dtype: int64"
      ]
     },
     "execution_count": 25,
     "metadata": {},
     "output_type": "execute_result"
    }
   ],
   "source": [
    "y_test.value_counts()"
   ]
  },
  {
   "cell_type": "markdown",
   "metadata": {},
   "source": [
    "Huge class inmbalance!!!"
   ]
  },
  {
   "cell_type": "markdown",
   "metadata": {},
   "source": [
    "## Getting the confussion matrix"
   ]
  },
  {
   "cell_type": "code",
   "execution_count": 26,
   "metadata": {},
   "outputs": [
    {
     "data": {
      "text/plain": [
       "array([[  0,  68],\n",
       "       [  0, 316]], dtype=int64)"
      ]
     },
     "execution_count": 26,
     "metadata": {},
     "output_type": "execute_result"
    }
   ],
   "source": [
    "from sklearn.metrics import confusion_matrix, plot_confusion_matrix\n",
    "confusion_matrix(y_test, predictions) #predictions or classification.predict(X_test) if gives you an error"
   ]
  },
  {
   "cell_type": "code",
   "execution_count": 27,
   "metadata": {},
   "outputs": [
    {
     "data": {
      "text/plain": [
       "<sklearn.metrics._plot.confusion_matrix.ConfusionMatrixDisplay at 0x1da328297f0>"
      ]
     },
     "execution_count": 27,
     "metadata": {},
     "output_type": "execute_result"
    },
    {
     "data": {
      "image/png": "[encoded data removed]",
      "text/plain": [
       "<Figure size 432x288 with 2 Axes>"
      ]
     },
     "metadata": {
      "needs_background": "light"
     },
     "output_type": "display_data"
    }
   ],
   "source": [
    "plot_confusion_matrix(classification, X_test, y_test)"
   ]
  },
  {
   "cell_type": "markdown",
   "metadata": {},
   "source": [
    "## Getting the probabilities of belonging to a particular class"
   ]
  },
  {
   "cell_type": "code",
   "execution_count": 28,
   "metadata": {},
   "outputs": [
    {
     "data": {
      "text/plain": [
       "array([[0.22360376, 0.77639624],\n",
       "       [0.18834334, 0.81165666],\n",
       "       [0.11662803, 0.88337197],\n",
       "       [0.09605644, 0.90394356],\n",
       "       [0.18990552, 0.81009448],\n",
       "       [0.1818723 , 0.8181277 ],\n",
       "       [0.07759725, 0.92240275],\n",
       "       [0.09506426, 0.90493574],\n",
       "       [0.19869383, 0.80130617],\n",
       "       [0.16697673, 0.83302327],\n",
       "       [0.18380348, 0.81619652],\n",
       "       [0.18230671, 0.81769329],\n",
       "       [0.19955703, 0.80044297],\n",
       "       [0.2314573 , 0.7685427 ],\n",
       "       [0.13138147, 0.86861853],\n",
       "       [0.2501275 , 0.7498725 ],\n",
       "       [0.08498769, 0.91501231],\n",
       "       [0.10692557, 0.89307443],\n",
       "       [0.10721863, 0.89278137],\n",
       "       [0.10589325, 0.89410675],\n",
       "       [0.21565671, 0.78434329],\n",
       "       [0.14488145, 0.85511855],\n",
       "       [0.0856488 , 0.9143512 ],\n",
       "       [0.0848603 , 0.9151397 ],\n",
       "       [0.17733174, 0.82266826],\n",
       "       [0.13010322, 0.86989678],\n",
       "       [0.07738561, 0.92261439],\n",
       "       [0.24691469, 0.75308531],\n",
       "       [0.14253956, 0.85746044],\n",
       "       [0.25802867, 0.74197133],\n",
       "       [0.25939658, 0.74060342],\n",
       "       [0.22748592, 0.77251408],\n",
       "       [0.08418027, 0.91581973],\n",
       "       [0.14238555, 0.85761445],\n",
       "       [0.17445823, 0.82554177],\n",
       "       [0.2025848 , 0.7974152 ],\n",
       "       [0.09529317, 0.90470683],\n",
       "       [0.08663542, 0.91336458],\n",
       "       [0.23020565, 0.76979435],\n",
       "       [0.24444813, 0.75555187],\n",
       "       [0.11742232, 0.88257768],\n",
       "       [0.18577261, 0.81422739],\n",
       "       [0.13982412, 0.86017588],\n",
       "       [0.27420277, 0.72579723],\n",
       "       [0.30774892, 0.69225108],\n",
       "       [0.21316119, 0.78683881],\n",
       "       [0.07636476, 0.92363524],\n",
       "       [0.11563465, 0.88436535],\n",
       "       [0.22522812, 0.77477188],\n",
       "       [0.19983854, 0.80016146],\n",
       "       [0.14257724, 0.85742276],\n",
       "       [0.17941607, 0.82058393],\n",
       "       [0.24067817, 0.75932183],\n",
       "       [0.16503137, 0.83496863],\n",
       "       [0.29832622, 0.70167378],\n",
       "       [0.10495158, 0.89504842],\n",
       "       [0.10608492, 0.89391508],\n",
       "       [0.16323216, 0.83676784],\n",
       "       [0.18928524, 0.81071476],\n",
       "       [0.21125076, 0.78874924],\n",
       "       [0.2109423 , 0.7890577 ],\n",
       "       [0.23594921, 0.76405079],\n",
       "       [0.08498717, 0.91501283],\n",
       "       [0.17740463, 0.82259537],\n",
       "       [0.13037657, 0.86962343],\n",
       "       [0.19084703, 0.80915297],\n",
       "       [0.14459039, 0.85540961],\n",
       "       [0.15010723, 0.84989277],\n",
       "       [0.21606105, 0.78393895],\n",
       "       [0.07594751, 0.92405249],\n",
       "       [0.07777292, 0.92222708],\n",
       "       [0.12974141, 0.87025859],\n",
       "       [0.09516541, 0.90483459],\n",
       "       [0.18920301, 0.81079699],\n",
       "       [0.11623857, 0.88376143],\n",
       "       [0.10339425, 0.89660575],\n",
       "       [0.30774045, 0.69225955],\n",
       "       [0.29379206, 0.70620794],\n",
       "       [0.2537184 , 0.7462816 ],\n",
       "       [0.1591523 , 0.8408477 ],\n",
       "       [0.19955791, 0.80044209],\n",
       "       [0.20937421, 0.79062579],\n",
       "       [0.12960946, 0.87039054],\n",
       "       [0.23777818, 0.76222182],\n",
       "       [0.0770863 , 0.9229137 ],\n",
       "       [0.08435838, 0.91564162],\n",
       "       [0.20062632, 0.79937368],\n",
       "       [0.2196094 , 0.7803906 ],\n",
       "       [0.26259098, 0.73740902],\n",
       "       [0.19834411, 0.80165589],\n",
       "       [0.21638104, 0.78361896],\n",
       "       [0.08475921, 0.91524079],\n",
       "       [0.16010211, 0.83989789],\n",
       "       [0.07750656, 0.92249344],\n",
       "       [0.18252978, 0.81747022],\n",
       "       [0.24641333, 0.75358667],\n",
       "       [0.1183899 , 0.8816101 ],\n",
       "       [0.25047371, 0.74952629],\n",
       "       [0.15622213, 0.84377787],\n",
       "       [0.09580361, 0.90419639],\n",
       "       [0.09575176, 0.90424824],\n",
       "       [0.21860296, 0.78139704],\n",
       "       [0.16404171, 0.83595829],\n",
       "       [0.30420741, 0.69579259],\n",
       "       [0.18897347, 0.81102653],\n",
       "       [0.11599769, 0.88400231],\n",
       "       [0.21860617, 0.78139383],\n",
       "       [0.11745052, 0.88254948],\n",
       "       [0.07562132, 0.92437868],\n",
       "       [0.22918433, 0.77081567],\n",
       "       [0.15386812, 0.84613188],\n",
       "       [0.14487231, 0.85512769],\n",
       "       [0.14199506, 0.85800494],\n",
       "       [0.24630568, 0.75369432],\n",
       "       [0.21281822, 0.78718178],\n",
       "       [0.13078061, 0.86921939],\n",
       "       [0.08611258, 0.91388742],\n",
       "       [0.10415634, 0.89584366],\n",
       "       [0.11641636, 0.88358364],\n",
       "       [0.21301992, 0.78698008],\n",
       "       [0.09539511, 0.90460489],\n",
       "       [0.11693523, 0.88306477],\n",
       "       [0.20068496, 0.79931504],\n",
       "       [0.07709466, 0.92290534],\n",
       "       [0.17514093, 0.82485907],\n",
       "       [0.23191435, 0.76808565],\n",
       "       [0.25349997, 0.74650003],\n",
       "       [0.11654026, 0.88345974],\n",
       "       [0.09491162, 0.90508838],\n",
       "       [0.14099391, 0.85900609],\n",
       "       [0.17812079, 0.82187921],\n",
       "       [0.15056207, 0.84943793],\n",
       "       [0.06912425, 0.93087575],\n",
       "       [0.14181463, 0.85818537],\n",
       "       [0.11669245, 0.88330755],\n",
       "       [0.26247681, 0.73752319],\n",
       "       [0.25573199, 0.74426801],\n",
       "       [0.14400384, 0.85599616],\n",
       "       [0.22833756, 0.77166244],\n",
       "       [0.06879111, 0.93120889],\n",
       "       [0.14315922, 0.85684078],\n",
       "       [0.25846623, 0.74153377],\n",
       "       [0.09480786, 0.90519214],\n",
       "       [0.24067204, 0.75932796],\n",
       "       [0.17484748, 0.82515252],\n",
       "       [0.10450866, 0.89549134],\n",
       "       [0.29292391, 0.70707609],\n",
       "       [0.1830918 , 0.8169082 ],\n",
       "       [0.2529199 , 0.7470801 ],\n",
       "       [0.29967142, 0.70032858],\n",
       "       [0.14555048, 0.85444952],\n",
       "       [0.15018357, 0.84981643],\n",
       "       [0.20022048, 0.79977952],\n",
       "       [0.21615854, 0.78384146],\n",
       "       [0.17690951, 0.82309049],\n",
       "       [0.25689341, 0.74310659],\n",
       "       [0.17548108, 0.82451892],\n",
       "       [0.23562698, 0.76437302],\n",
       "       [0.23510208, 0.76489792],\n",
       "       [0.10750227, 0.89249773],\n",
       "       [0.2126241 , 0.7873759 ],\n",
       "       [0.17311669, 0.82688331],\n",
       "       [0.07798628, 0.92201372],\n",
       "       [0.27611284, 0.72388716],\n",
       "       [0.07776915, 0.92223085],\n",
       "       [0.06994087, 0.93005913],\n",
       "       [0.2183006 , 0.7816994 ],\n",
       "       [0.10580514, 0.89419486],\n",
       "       [0.18028643, 0.81971357],\n",
       "       [0.07671339, 0.92328661],\n",
       "       [0.2531612 , 0.7468388 ],\n",
       "       [0.14612895, 0.85387105],\n",
       "       [0.21416009, 0.78583991],\n",
       "       [0.09549342, 0.90450658],\n",
       "       [0.15093399, 0.84906601],\n",
       "       [0.26214542, 0.73785458],\n",
       "       [0.16380031, 0.83619969],\n",
       "       [0.22999962, 0.77000038],\n",
       "       [0.19928039, 0.80071961],\n",
       "       [0.18222796, 0.81777204],\n",
       "       [0.23135095, 0.76864905],\n",
       "       [0.1413419 , 0.8586581 ],\n",
       "       [0.18880019, 0.81119981],\n",
       "       [0.30695695, 0.69304305],\n",
       "       [0.13940308, 0.86059692],\n",
       "       [0.22523125, 0.77476875],\n",
       "       [0.0950905 , 0.9049095 ],\n",
       "       [0.27431912, 0.72568088],\n",
       "       [0.07653283, 0.92346717],\n",
       "       [0.13007183, 0.86992817],\n",
       "       [0.21548292, 0.78451708],\n",
       "       [0.2513737 , 0.7486263 ],\n",
       "       [0.21486943, 0.78513057],\n",
       "       [0.23541239, 0.76458761],\n",
       "       [0.14301178, 0.85698822],\n",
       "       [0.06165839, 0.93834161],\n",
       "       [0.07717659, 0.92282341],\n",
       "       [0.20392298, 0.79607702],\n",
       "       [0.15263032, 0.84736968],\n",
       "       [0.09595313, 0.90404687],\n",
       "       [0.1751018 , 0.8248982 ],\n",
       "       [0.1758672 , 0.8241328 ],\n",
       "       [0.11844983, 0.88155017],\n",
       "       [0.23637232, 0.76362768],\n",
       "       [0.21552093, 0.78447907],\n",
       "       [0.2981995 , 0.7018005 ],\n",
       "       [0.25170087, 0.74829913],\n",
       "       [0.14650005, 0.85349995],\n",
       "       [0.21184003, 0.78815997],\n",
       "       [0.14281757, 0.85718243],\n",
       "       [0.23152039, 0.76847961],\n",
       "       [0.24641343, 0.75358657],\n",
       "       [0.17846575, 0.82153425],\n",
       "       [0.17985253, 0.82014747],\n",
       "       [0.0762433 , 0.9237567 ],\n",
       "       [0.17526966, 0.82473034],\n",
       "       [0.12606674, 0.87393326],\n",
       "       [0.25802491, 0.74197509],\n",
       "       [0.21951288, 0.78048712],\n",
       "       [0.10322617, 0.89677383],\n",
       "       [0.14411328, 0.85588672],\n",
       "       [0.29979466, 0.70020534],\n",
       "       [0.08663391, 0.91336609],\n",
       "       [0.23114728, 0.76885272],\n",
       "       [0.06993781, 0.93006219],\n",
       "       [0.06877729, 0.93122271],\n",
       "       [0.2130651 , 0.7869349 ],\n",
       "       [0.14466077, 0.85533923],\n",
       "       [0.07704457, 0.92295543],\n",
       "       [0.06186261, 0.93813739],\n",
       "       [0.07574639, 0.92425361],\n",
       "       [0.12542085, 0.87457915],\n",
       "       [0.12928547, 0.87071453],\n",
       "       [0.2359537 , 0.7640463 ],\n",
       "       [0.14465787, 0.85534213],\n",
       "       [0.11710207, 0.88289793],\n",
       "       [0.21645921, 0.78354079],\n",
       "       [0.10572478, 0.89427522],\n",
       "       [0.25815605, 0.74184395],\n",
       "       [0.17915385, 0.82084615],\n",
       "       [0.27490767, 0.72509233],\n",
       "       [0.17647698, 0.82352302],\n",
       "       [0.16387838, 0.83612162],\n",
       "       [0.29060523, 0.70939477],\n",
       "       [0.11647672, 0.88352328],\n",
       "       [0.19701242, 0.80298758],\n",
       "       [0.10721952, 0.89278048],\n",
       "       [0.22655659, 0.77344341],\n",
       "       [0.24943926, 0.75056074],\n",
       "       [0.2139276 , 0.7860724 ],\n",
       "       [0.2156198 , 0.7843802 ],\n",
       "       [0.24014648, 0.75985352],\n",
       "       [0.16864951, 0.83135049],\n",
       "       [0.18370532, 0.81629468],\n",
       "       [0.24779004, 0.75220996],\n",
       "       [0.1461435 , 0.8538565 ],\n",
       "       [0.2574737 , 0.7425263 ],\n",
       "       [0.21418101, 0.78581899],\n",
       "       [0.09600528, 0.90399472],\n",
       "       [0.19992699, 0.80007301],\n",
       "       [0.25928104, 0.74071896],\n",
       "       [0.19908482, 0.80091518],\n",
       "       [0.18143445, 0.81856555],\n",
       "       [0.20334686, 0.79665314],\n",
       "       [0.17793248, 0.82206752],\n",
       "       [0.09549554, 0.90450446],\n",
       "       [0.19787541, 0.80212459],\n",
       "       [0.11726706, 0.88273294],\n",
       "       [0.21739719, 0.78260281],\n",
       "       [0.13063978, 0.86936022],\n",
       "       [0.30683004, 0.69316996],\n",
       "       [0.22823516, 0.77176484],\n",
       "       [0.09400049, 0.90599951],\n",
       "       [0.18576412, 0.81423588],\n",
       "       [0.12574588, 0.87425412],\n",
       "       [0.2299138 , 0.7700862 ],\n",
       "       [0.23605301, 0.76394699],\n",
       "       [0.16355909, 0.83644091],\n",
       "       [0.23701018, 0.76298982],\n",
       "       [0.17812114, 0.82187886],\n",
       "       [0.10785048, 0.89214952],\n",
       "       [0.10550565, 0.89449435],\n",
       "       [0.15622115, 0.84377885],\n",
       "       [0.11802488, 0.88197512],\n",
       "       [0.13070896, 0.86929104],\n",
       "       [0.29844285, 0.70155715],\n",
       "       [0.09506418, 0.90493582],\n",
       "       [0.17236876, 0.82763124],\n",
       "       [0.10589612, 0.89410388],\n",
       "       [0.18888567, 0.81111433],\n",
       "       [0.13075883, 0.86924117],\n",
       "       [0.11669082, 0.88330918],\n",
       "       [0.08475868, 0.91524132],\n",
       "       [0.22309147, 0.77690853],\n",
       "       [0.23788079, 0.76211921],\n",
       "       [0.06943436, 0.93056564],\n",
       "       [0.15511379, 0.84488621],\n",
       "       [0.11736   , 0.88264   ],\n",
       "       [0.20155974, 0.79844026],\n",
       "       [0.15565373, 0.84434627],\n",
       "       [0.18468367, 0.81531633],\n",
       "       [0.24398625, 0.75601375],\n",
       "       [0.09460415, 0.90539585],\n",
       "       [0.13020721, 0.86979279],\n",
       "       [0.2292896 , 0.7707104 ],\n",
       "       [0.22603313, 0.77396687],\n",
       "       [0.29181204, 0.70818796],\n",
       "       [0.26111991, 0.73888009],\n",
       "       [0.12542348, 0.87457652],\n",
       "       [0.14591324, 0.85408676],\n",
       "       [0.1830876 , 0.8169124 ],\n",
       "       [0.11742095, 0.88257905],\n",
       "       [0.30608541, 0.69391459],\n",
       "       [0.1265999 , 0.8734001 ],\n",
       "       [0.27514891, 0.72485109],\n",
       "       [0.17552274, 0.82447726],\n",
       "       [0.11772412, 0.88227588],\n",
       "       [0.290967  , 0.709033  ],\n",
       "       [0.22288729, 0.77711271],\n",
       "       [0.29035363, 0.70964637],\n",
       "       [0.18576661, 0.81423339],\n",
       "       [0.07640905, 0.92359095],\n",
       "       [0.11814233, 0.88185767],\n",
       "       [0.14995711, 0.85004289],\n",
       "       [0.27491817, 0.72508183],\n",
       "       [0.1262603 , 0.8737397 ],\n",
       "       [0.0693586 , 0.9306414 ],\n",
       "       [0.22957576, 0.77042424],\n",
       "       [0.15526614, 0.84473386],\n",
       "       [0.16738625, 0.83261375],\n",
       "       [0.2028731 , 0.7971269 ],\n",
       "       [0.24143241, 0.75856759],\n",
       "       [0.1413363 , 0.8586637 ],\n",
       "       [0.0772119 , 0.9227881 ],\n",
       "       [0.10473051, 0.89526949],\n",
       "       [0.07777018, 0.92222982],\n",
       "       [0.17733583, 0.82266417],\n",
       "       [0.30559016, 0.69440984],\n",
       "       [0.25642738, 0.74357262],\n",
       "       [0.21355711, 0.78644289],\n",
       "       [0.24564624, 0.75435376],\n",
       "       [0.10449873, 0.89550127],\n",
       "       [0.15294304, 0.84705696],\n",
       "       [0.1448602 , 0.8551398 ],\n",
       "       [0.29000303, 0.70999697],\n",
       "       [0.0693586 , 0.9306414 ],\n",
       "       [0.17320787, 0.82679213],\n",
       "       [0.06994346, 0.93005654],\n",
       "       [0.15048623, 0.84951377],\n",
       "       [0.13982194, 0.86017806],\n",
       "       [0.18200919, 0.81799081],\n",
       "       [0.29303677, 0.70696323],\n",
       "       [0.08597078, 0.91402922],\n",
       "       [0.18789429, 0.81210571],\n",
       "       [0.14304116, 0.85695884],\n",
       "       [0.12921034, 0.87078966],\n",
       "       [0.1311779 , 0.8688221 ],\n",
       "       [0.30070089, 0.69929911],\n",
       "       [0.23895752, 0.76104248],\n",
       "       [0.07671191, 0.92328809],\n",
       "       [0.06928299, 0.93071701],\n",
       "       [0.1461355 , 0.8538645 ],\n",
       "       [0.13090075, 0.86909925],\n",
       "       [0.25903511, 0.74096489],\n",
       "       [0.21297056, 0.78702944],\n",
       "       [0.25394496, 0.74605504],\n",
       "       [0.30004051, 0.69995949],\n",
       "       [0.06954863, 0.93045137],\n",
       "       [0.06155764, 0.93844236],\n",
       "       [0.1816611 , 0.8183389 ],\n",
       "       [0.15622013, 0.84377987],\n",
       "       [0.24834226, 0.75165774],\n",
       "       [0.25792337, 0.74207663],\n",
       "       [0.18380578, 0.81619422],\n",
       "       [0.15907375, 0.84092625],\n",
       "       [0.29979841, 0.70020159],\n",
       "       [0.10561625, 0.89438375],\n",
       "       [0.18186785, 0.81813215],\n",
       "       [0.25679716, 0.74320284],\n",
       "       [0.14987998, 0.85012002],\n",
       "       [0.25813896, 0.74186104],\n",
       "       [0.14053637, 0.85946363],\n",
       "       [0.10360583, 0.89639417],\n",
       "       [0.18865097, 0.81134903]])"
      ]
     },
     "execution_count": 28,
     "metadata": {},
     "output_type": "execute_result"
    }
   ],
   "source": [
    "classification.predict_proba(X_test)"
   ]
  },
  {
   "cell_type": "code",
   "execution_count": 29,
   "metadata": {},
   "outputs": [
    {
     "data": {
      "text/plain": [
       "array([0.22360376, 0.18834334, 0.11662803, 0.09605644, 0.18990552,\n",
       "       0.1818723 , 0.07759725, 0.09506426, 0.19869383, 0.16697673,\n",
       "       0.18380348, 0.18230671, 0.19955703, 0.2314573 , 0.13138147,\n",
       "       0.2501275 , 0.08498769, 0.10692557, 0.10721863, 0.10589325,\n",
       "       0.21565671, 0.14488145, 0.0856488 , 0.0848603 , 0.17733174,\n",
       "       0.13010322, 0.07738561, 0.24691469, 0.14253956, 0.25802867,\n",
       "       0.25939658, 0.22748592, 0.08418027, 0.14238555, 0.17445823,\n",
       "       0.2025848 , 0.09529317, 0.08663542, 0.23020565, 0.24444813,\n",
       "       0.11742232, 0.18577261, 0.13982412, 0.27420277, 0.30774892,\n",
       "       0.21316119, 0.07636476, 0.11563465, 0.22522812, 0.19983854,\n",
       "       0.14257724, 0.17941607, 0.24067817, 0.16503137, 0.29832622,\n",
       "       0.10495158, 0.10608492, 0.16323216, 0.18928524, 0.21125076,\n",
       "       0.2109423 , 0.23594921, 0.08498717, 0.17740463, 0.13037657,\n",
       "       0.19084703, 0.14459039, 0.15010723, 0.21606105, 0.07594751,\n",
       "       0.07777292, 0.12974141, 0.09516541, 0.18920301, 0.11623857,\n",
       "       0.10339425, 0.30774045, 0.29379206, 0.2537184 , 0.1591523 ,\n",
       "       0.19955791, 0.20937421, 0.12960946, 0.23777818, 0.0770863 ,\n",
       "       0.08435838, 0.20062632, 0.2196094 , 0.26259098, 0.19834411,\n",
       "       0.21638104, 0.08475921, 0.16010211, 0.07750656, 0.18252978,\n",
       "       0.24641333, 0.1183899 , 0.25047371, 0.15622213, 0.09580361,\n",
       "       0.09575176, 0.21860296, 0.16404171, 0.30420741, 0.18897347,\n",
       "       0.11599769, 0.21860617, 0.11745052, 0.07562132, 0.22918433,\n",
       "       0.15386812, 0.14487231, 0.14199506, 0.24630568, 0.21281822,\n",
       "       0.13078061, 0.08611258, 0.10415634, 0.11641636, 0.21301992,\n",
       "       0.09539511, 0.11693523, 0.20068496, 0.07709466, 0.17514093,\n",
       "       0.23191435, 0.25349997, 0.11654026, 0.09491162, 0.14099391,\n",
       "       0.17812079, 0.15056207, 0.06912425, 0.14181463, 0.11669245,\n",
       "       0.26247681, 0.25573199, 0.14400384, 0.22833756, 0.06879111,\n",
       "       0.14315922, 0.25846623, 0.09480786, 0.24067204, 0.17484748,\n",
       "       0.10450866, 0.29292391, 0.1830918 , 0.2529199 , 0.29967142,\n",
       "       0.14555048, 0.15018357, 0.20022048, 0.21615854, 0.17690951,\n",
       "       0.25689341, 0.17548108, 0.23562698, 0.23510208, 0.10750227,\n",
       "       0.2126241 , 0.17311669, 0.07798628, 0.27611284, 0.07776915,\n",
       "       0.06994087, 0.2183006 , 0.10580514, 0.18028643, 0.07671339,\n",
       "       0.2531612 , 0.14612895, 0.21416009, 0.09549342, 0.15093399,\n",
       "       0.26214542, 0.16380031, 0.22999962, 0.19928039, 0.18222796,\n",
       "       0.23135095, 0.1413419 , 0.18880019, 0.30695695, 0.13940308,\n",
       "       0.22523125, 0.0950905 , 0.27431912, 0.07653283, 0.13007183,\n",
       "       0.21548292, 0.2513737 , 0.21486943, 0.23541239, 0.14301178,\n",
       "       0.06165839, 0.07717659, 0.20392298, 0.15263032, 0.09595313,\n",
       "       0.1751018 , 0.1758672 , 0.11844983, 0.23637232, 0.21552093,\n",
       "       0.2981995 , 0.25170087, 0.14650005, 0.21184003, 0.14281757,\n",
       "       0.23152039, 0.24641343, 0.17846575, 0.17985253, 0.0762433 ,\n",
       "       0.17526966, 0.12606674, 0.25802491, 0.21951288, 0.10322617,\n",
       "       0.14411328, 0.29979466, 0.08663391, 0.23114728, 0.06993781,\n",
       "       0.06877729, 0.2130651 , 0.14466077, 0.07704457, 0.06186261,\n",
       "       0.07574639, 0.12542085, 0.12928547, 0.2359537 , 0.14465787,\n",
       "       0.11710207, 0.21645921, 0.10572478, 0.25815605, 0.17915385,\n",
       "       0.27490767, 0.17647698, 0.16387838, 0.29060523, 0.11647672,\n",
       "       0.19701242, 0.10721952, 0.22655659, 0.24943926, 0.2139276 ,\n",
       "       0.2156198 , 0.24014648, 0.16864951, 0.18370532, 0.24779004,\n",
       "       0.1461435 , 0.2574737 , 0.21418101, 0.09600528, 0.19992699,\n",
       "       0.25928104, 0.19908482, 0.18143445, 0.20334686, 0.17793248,\n",
       "       0.09549554, 0.19787541, 0.11726706, 0.21739719, 0.13063978,\n",
       "       0.30683004, 0.22823516, 0.09400049, 0.18576412, 0.12574588,\n",
       "       0.2299138 , 0.23605301, 0.16355909, 0.23701018, 0.17812114,\n",
       "       0.10785048, 0.10550565, 0.15622115, 0.11802488, 0.13070896,\n",
       "       0.29844285, 0.09506418, 0.17236876, 0.10589612, 0.18888567,\n",
       "       0.13075883, 0.11669082, 0.08475868, 0.22309147, 0.23788079,\n",
       "       0.06943436, 0.15511379, 0.11736   , 0.20155974, 0.15565373,\n",
       "       0.18468367, 0.24398625, 0.09460415, 0.13020721, 0.2292896 ,\n",
       "       0.22603313, 0.29181204, 0.26111991, 0.12542348, 0.14591324,\n",
       "       0.1830876 , 0.11742095, 0.30608541, 0.1265999 , 0.27514891,\n",
       "       0.17552274, 0.11772412, 0.290967  , 0.22288729, 0.29035363,\n",
       "       0.18576661, 0.07640905, 0.11814233, 0.14995711, 0.27491817,\n",
       "       0.1262603 , 0.0693586 , 0.22957576, 0.15526614, 0.16738625,\n",
       "       0.2028731 , 0.24143241, 0.1413363 , 0.0772119 , 0.10473051,\n",
       "       0.07777018, 0.17733583, 0.30559016, 0.25642738, 0.21355711,\n",
       "       0.24564624, 0.10449873, 0.15294304, 0.1448602 , 0.29000303,\n",
       "       0.0693586 , 0.17320787, 0.06994346, 0.15048623, 0.13982194,\n",
       "       0.18200919, 0.29303677, 0.08597078, 0.18789429, 0.14304116,\n",
       "       0.12921034, 0.1311779 , 0.30070089, 0.23895752, 0.07671191,\n",
       "       0.06928299, 0.1461355 , 0.13090075, 0.25903511, 0.21297056,\n",
       "       0.25394496, 0.30004051, 0.06954863, 0.06155764, 0.1816611 ,\n",
       "       0.15622013, 0.24834226, 0.25792337, 0.18380578, 0.15907375,\n",
       "       0.29979841, 0.10561625, 0.18186785, 0.25679716, 0.14987998,\n",
       "       0.25813896, 0.14053637, 0.10360583, 0.18865097])"
      ]
     },
     "execution_count": 29,
     "metadata": {},
     "output_type": "execute_result"
    }
   ],
   "source": [
    "classification.predict_proba(X_test)[::,0]"
   ]
  },
  {
   "cell_type": "code",
   "execution_count": 30,
   "metadata": {},
   "outputs": [
    {
     "ename": "SyntaxError",
     "evalue": "invalid syntax (<ipython-input-30-d3683f2f4291>, line 4)",
     "output_type": "error",
     "traceback": [
      "\u001b[1;36m  File \u001b[1;32m\"<ipython-input-30-d3683f2f4291>\"\u001b[1;36m, line \u001b[1;32m4\u001b[0m\n\u001b[1;33m    df_probs.head()\u001b[0m\n\u001b[1;37m    ^\u001b[0m\n\u001b[1;31mSyntaxError\u001b[0m\u001b[1;31m:\u001b[0m invalid syntax\n"
     ]
    }
   ],
   "source": [
    "df_probs = pd.DataFrame(probs, columns = ['P(A)','P(B)','P(C)','P(D)'])\n",
    "df_probs.head()\n",
    "df_probs['Biggest'] =list(np.max(probs, axis=1)\n",
    "df_probs.head()"
   ]
  },
  {
   "cell_type": "code",
   "execution_count": null,
   "metadata": {},
   "outputs": [],
   "source": []
  },
  {
   "cell_type": "code",
   "execution_count": null,
   "metadata": {},
   "outputs": [],
   "source": []
  }
 ],
 "metadata": {
  "kernelspec": {
   "display_name": "Python 3",
   "language": "python",
   "name": "python3"
  },
  "language_info": {
   "codemirror_mode": {
    "name": "ipython",
    "version": 3
   },
   "file_extension": ".py",
   "mimetype": "text/x-python",
   "name": "python",
   "nbconvert_exporter": "python",
   "pygments_lexer": "ipython3",
   "version": "3.9.1"
  }
 },
 "nbformat": 4,
 "nbformat_minor": 4
}
